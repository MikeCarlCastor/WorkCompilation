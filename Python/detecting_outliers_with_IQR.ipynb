{
  "nbformat": 4,
  "nbformat_minor": 0,
  "metadata": {
    "colab": {
      "provenance": []
    },
    "kernelspec": {
      "name": "python3",
      "display_name": "Python 3"
    },
    "language_info": {
      "name": "python"
    }
  },
  "cells": [
    {
      "cell_type": "code",
      "execution_count": 34,
      "metadata": {
        "colab": {
          "base_uri": "https://localhost:8080/"
        },
        "id": "D8Bi0CEh1Msl",
        "outputId": "71175113-00d9-4e18-9064-feeeb029e8ab"
      },
      "outputs": [
        {
          "output_type": "stream",
          "name": "stdout",
          "text": [
            "Your dataset: 1,2,3,4,5\n",
            "╒═════════════╤═════════╕\n",
            "│ Statistic   │   Value │\n",
            "╞═════════════╪═════════╡\n",
            "│ Min         │       1 │\n",
            "├─────────────┼─────────┤\n",
            "│ Q1          │       2 │\n",
            "├─────────────┼─────────┤\n",
            "│ Median      │       3 │\n",
            "├─────────────┼─────────┤\n",
            "│ Q3          │       4 │\n",
            "├─────────────┼─────────┤\n",
            "│ Max         │       5 │\n",
            "├─────────────┼─────────┤\n",
            "│ Mean        │       3 │\n",
            "├─────────────┼─────────┤\n",
            "│ IQR         │       2 │\n",
            "├─────────────┼─────────┤\n",
            "│ Lower Limit │      -1 │\n",
            "├─────────────┼─────────┤\n",
            "│ Upper Limit │       7 │\n",
            "╘═════════════╧═════════╛\n"
          ]
        }
      ],
      "source": [
        "# input dataset\n",
        "data_input = input(\"Your dataset: \")\n",
        "data_list = data_input.split(',')\n",
        "\n",
        "dataset = [int(data) for data in data_list]\n",
        "\n",
        "# calculate min value\n",
        "min_value = min(dataset)\n",
        "\n",
        "# calculate quartiles\n",
        "import numpy as np\n",
        "\n",
        "data = dataset\n",
        "\n",
        "quartiles = np.percentile(data, [25, 50, 75])\n",
        "\n",
        "q1 = quartiles[0]\n",
        "median = quartiles[1]\n",
        "q3 = quartiles[2]\n",
        "\n",
        "# calculate max value\n",
        "max_value = max(dataset)\n",
        "\n",
        "\n",
        "# calculate mean\n",
        "mean_value = sum(dataset)/(len(dataset))\n",
        "\n",
        "\n",
        "# calculate IQR\n",
        "iqr_value = q3 - q1\n",
        "\n",
        "\n",
        "# calculate the lower limit outliers\n",
        "lower_limit_value = q1 - (iqr_value * 1.5)\n",
        "\n",
        "\n",
        "# calculate the upper limit outliers\n",
        "upper_limit_value = q3 + (iqr_value * 1.5)\n",
        "\n",
        "\n",
        "import pandas as pd\n",
        "\n",
        "from tabulate import tabulate\n",
        "\n",
        "results = [\n",
        "    [\"Min\", min_value],\n",
        "    [\"Q1\", q1],\n",
        "    [\"Median\", median],\n",
        "    [\"Q3\", q3],\n",
        "    [\"Max\", max_value],\n",
        "    [\"Mean\", mean_value],\n",
        "    [\"IQR\", iqr_value],\n",
        "    [\"Lower Limit\", lower_limit_value],\n",
        "    [\"Upper Limit\", upper_limit_value]\n",
        "]\n",
        "\n",
        "results_df = pd.DataFrame(results, columns=[\"Statistic\", \"Value\"])\n",
        "\n",
        "results_df = results_df.set_index('Statistic')\n",
        "\n",
        "tabular_results = tabulate(results_df, headers='keys', tablefmt='fancy_grid')\n",
        "\n",
        "print(tabular_results)"
      ]
    },
    {
      "cell_type": "code",
      "source": [],
      "metadata": {
        "id": "y6JwjbM2QU8I"
      },
      "execution_count": null,
      "outputs": []
    }
  ]
}