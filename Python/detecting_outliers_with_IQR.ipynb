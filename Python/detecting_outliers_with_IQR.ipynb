{
  "nbformat": 4,
  "nbformat_minor": 0,
  "metadata": {
    "colab": {
      "provenance": []
    },
    "kernelspec": {
      "name": "python3",
      "display_name": "Python 3"
    },
    "language_info": {
      "name": "python"
    }
  },
  "cells": [
    {
      "cell_type": "code",
      "execution_count": 11,
      "metadata": {
        "colab": {
          "base_uri": "https://localhost:8080/"
        },
        "id": "D8Bi0CEh1Msl",
        "outputId": "666285b2-3788-4cee-9e3f-d18869ba22be"
      },
      "outputs": [
        {
          "output_type": "stream",
          "name": "stdout",
          "text": [
            "Your dataset: 1,23,4,5,5\n",
            "Dataset: [1, 23, 4, 5, 5]\n",
            "Min:  1\n",
            "Q1: 4.0\n",
            "Median: 5.0\n",
            "Q3: 5.0\n",
            "Max:  23\n",
            "Mean:  7.6\n",
            "IQR:  1.0\n",
            "Lower Limit:  2.5\n",
            "Upper Limit:  6.5\n"
          ]
        }
      ],
      "source": [
        "# input dataset\n",
        "data_input = input(\"Your dataset: \")\n",
        "data_list = data_input.split(',')\n",
        "\n",
        "dataset = [int(data) for data in data_list]\n",
        "\n",
        "print(\"Dataset:\", dataset)\n",
        "\n",
        "# calculate min value\n",
        "min_value = min(dataset)\n",
        "print(\"Min: \",min_value)\n",
        "\n",
        "# calculate quartiles\n",
        "import numpy as np\n",
        "\n",
        "data = dataset\n",
        "\n",
        "quartiles = np.percentile(data, [25, 50, 75])\n",
        "\n",
        "q1 = quartiles[0]\n",
        "median = quartiles[1]\n",
        "q3 = quartiles[2]\n",
        "\n",
        "print(\"Q1:\", q1)\n",
        "print(\"Median:\", median)\n",
        "print(\"Q3:\", q3)\n",
        "\n",
        "# calculate max value\n",
        "max_value = max(dataset)\n",
        "print(\"Max: \",max_value)\n",
        "\n",
        "# calculate mean\n",
        "mean_value = sum(dataset)/(len(dataset))\n",
        "print(\"Mean: \",mean_value)\n",
        "\n",
        "# calculate IQR\n",
        "iqr_value = q3 - q1\n",
        "print(\"IQR: \", iqr_value)\n",
        "\n",
        "# calculate the lower limit outliers\n",
        "lower_limit_value = q1 - (iqr_value * 1.5)\n",
        "print(\"Lower Limit: \", lower_limit_value)\n",
        "\n",
        "# calculate the upper limit outliers\n",
        "upper_limit_value = q3 + (iqr_value * 1.5)\n",
        "print(\"Upper Limit: \", upper_limit_value)"
      ]
    },
    {
      "cell_type": "code",
      "source": [],
      "metadata": {
        "id": "4TTtJqby1dWc"
      },
      "execution_count": null,
      "outputs": []
    }
  ]
}